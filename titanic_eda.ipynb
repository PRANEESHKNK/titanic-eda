{
 "cells": [
  {
   "cell_type": "markdown",
   "id": "88546a79",
   "metadata": {},
   "source": [
    "# 🧼 Titanic Dataset - EDA & Data Cleaning\n",
    "\n",
    "This notebook contains data cleaning and exploratory data analysis (EDA) of the Titanic dataset from Kaggle.\n"
   ]
  },
  {
   "cell_type": "code",
   "execution_count": null,
   "id": "779d9b82",
   "metadata": {},
   "outputs": [],
   "source": [
    "import pandas as pd\n",
    "import numpy as np\n",
    "import seaborn as sns\n",
    "import matplotlib.pyplot as plt\n",
    "df = pd.read_csv('train.csv')\n",
    "print(df.head())\n"
   ]
  },
  {
   "cell_type": "code",
   "execution_count": null,
   "id": "28d23994",
   "metadata": {},
   "outputs": [],
   "source": [
    "# Descriptive statistics\n",
    "print(df.describe())\n"
   ]
  },
  {
   "cell_type": "code",
   "execution_count": null,
   "id": "b1ed41cc",
   "metadata": {},
   "outputs": [],
   "source": [
    "# Check and drop duplicate rows\n",
    "print(f\"Total Duplicate Rows: {df.duplicated().sum()}\")\n",
    "print(df.drop_duplicates())\n"
   ]
  },
  {
   "cell_type": "code",
   "execution_count": null,
   "id": "7f436028",
   "metadata": {},
   "outputs": [],
   "source": [
    "# Check missing values\n",
    "print(df.isnull().sum())"
   ]
  },
  {
   "cell_type": "code",
   "execution_count": null,
   "id": "aca20cf7",
   "metadata": {},
   "outputs": [],
   "source": [
    "# Drop 'Cabin' due to high null values\n",
    "print(df.drop(columns=['Cabin']))\n",
    "\n",
    "# Fill missing 'Age' with median\n",
    "print(df['Age'].fillna(df['Age'].median()))\n",
    "\n",
    "# Fill missing 'Embarked' with mode (STRINGS)\n",
    "print(df['Embarked'].fillna(df['Embarked'].mode()))\n",
    "\n",
    "# Check again for nulls\n",
    "df.isnull().sum()\n"
   ]
  },
  {
   "cell_type": "code",
   "execution_count": null,
   "id": "87922807",
   "metadata": {},
   "outputs": [],
   "source": [
    "# Plot survival by gender\n",
    "sns.countplot(x='Sex', hue='Survived', data=df)\n",
    "plt.title(\"Survival by Gender\")\n",
    "plt.show()"
   ]
  },
  {
   "cell_type": "code",
   "execution_count": null,
   "id": "f927baa5",
   "metadata": {},
   "outputs": [],
   "source": [
    "sns.countplot(data=df, x='Pclass', hue='Survived')\n",
    "plt.title(\"Passenger Class and Survival\")\n",
    "plt.show()"
   ]
  }
 ],
 "metadata": {
  "language_info": {
   "name": "python"
  }
 },
 "nbformat": 4,
 "nbformat_minor": 5
}
