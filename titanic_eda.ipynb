{
 "cells": [
  {
   "cell_type": "markdown",
   "id": "88546a79",
   "metadata": {},
   "source": [
    "# 🧼 Titanic Dataset - EDA & Data Cleaning\n",
    "\n",
    "This notebook contains data cleaning and exploratory data analysis (EDA) of the Titanic dataset from Kaggle.\n"
   ]
  },
  {
   "cell_type": "code",
   "execution_count": null,
   "id": "779d9b82",
   "metadata": {},
   "outputs": [],
   "source": [
    "import pandas as pd\n",
    "import numpy as np\n",
    "import seaborn as sns\n",
    "import matplotlib.pyplot as plt\n",
    "\n",
    "# Load the dataset\n",
    "df = pd.read_csv('train.csv')\n",
    "df.head()\n"
   ]
  },
  {
   "cell_type": "code",
   "execution_count": null,
   "id": "28d23994",
   "metadata": {},
   "outputs": [],
   "source": [
    "# Descriptive statistics\n",
    "df.describe(include='all')\n"
   ]
  },
  {
   "cell_type": "code",
   "execution_count": null,
   "id": "b1ed41cc",
   "metadata": {},
   "outputs": [],
   "source": [
    "# Check and drop duplicate rows\n",
    "print(f\"Total Duplicate Rows: {df.duplicated().sum()}\")\n",
    "df = df.drop_duplicates()\n"
   ]
  },
  {
   "cell_type": "code",
   "execution_count": null,
   "id": "7f436028",
   "metadata": {},
   "outputs": [],
   "source": [
    "# Check missing values\n",
    "df.isnull().sum()\n"
   ]
  },
  {
   "cell_type": "code",
   "execution_count": null,
   "id": "aca20cf7",
   "metadata": {},
   "outputs": [],
   "source": [
    "# Drop 'Cabin' due to high null values\n",
    "df = df.drop(columns=['Cabin'])\n",
    "\n",
    "# Fill missing 'Age' with median\n",
    "df['Age'] = df['Age'].fillna(df['Age'].median())\n",
    "\n",
    "# Fill missing 'Embarked' with mode\n",
    "df['Embarked'] = df['Embarked'].fillna(df['Embarked'].mode()[0])\n",
    "\n",
    "# Check again for nulls\n",
    "df.isnull().sum()\n"
   ]
  },
  {
   "cell_type": "code",
   "execution_count": null,
   "id": "87922807",
   "metadata": {},
   "outputs": [],
   "source": [
    "# Plot survival by gender\n",
    "sns.set(style=\"darkgrid\")\n",
    "plt.figure(figsize=(6,4))\n",
    "sns.countplot(x='Sex', hue='Survived', data=df)\n",
    "plt.title(\"Survival by Gender\")\n",
    "plt.xlabel(\"Sex\")\n",
    "plt.ylabel(\"Count\")\n",
    "plt.legend(title='Survived', labels=['No', 'Yes'])\n",
    "plt.tight_layout()\n",
    "plt.show()\n"
   ]
  }
 ],
 "metadata": {},
 "nbformat": 4,
 "nbformat_minor": 5
}
